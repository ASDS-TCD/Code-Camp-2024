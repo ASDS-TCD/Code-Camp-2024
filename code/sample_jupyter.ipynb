{
 "cells": [
  {
   "cell_type": "markdown",
   "id": "41c36508",
   "metadata": {},
   "source": [
    "# We Make Titles the Same Way as Markdown"
   ]
  },
  {
   "cell_type": "code",
   "execution_count": 2,
   "id": "98fc3b71",
   "metadata": {},
   "outputs": [],
   "source": [
    "import numpy as np\n",
    "import pandas as pd\n",
    "import matplotlib.pyplot as plt"
   ]
  },
  {
   "cell_type": "markdown",
   "id": "1401a36c",
   "metadata": {},
   "source": [
    "Instead of chunks we have cells. The above cell is a code cell. Like any good script, we begin with listing our libraries. You can run a cell by highlighting it and clicking the \"run\" button, or using the correct keyboard shortcut. For Windows this is `Ctrl - Enter`. Run the above cell and this cell. What happens?"
   ]
  },
  {
   "cell_type": "markdown",
   "id": "c2d035b2",
   "metadata": {},
   "source": [
    "This cell and the above cell are **markdown** cells. You can change the type of cell by going to \"cell\" and \"cell type\". Once you have run a cell, you can edit it again by double-clicking on the box. You can add new cells by pressing the + button in the task bar above. Try it - create a new cell, change it to markdown, and add a **sub-title** \"General Election Results in Ireland, 1992-2020.\""
   ]
  },
  {
   "cell_type": "code",
   "execution_count": 3,
   "id": "69885bbc",
   "metadata": {},
   "outputs": [],
   "source": [
    "data = {'year': [1992, 1997, 2002, 2007, 2011, 2016, 2020],\n",
    "        'party': ['Fianna Fail', 'Fianna Fail', 'Fianna Fail', 'Fianna Fail', 'Fine Gael', 'Fine Gael', 'Fianna Fail'],\n",
    "        'seats': [68, 77, 81, 78, 76, 50, 38]}\n",
    "\n",
    "data_frame = pd.DataFrame(data)"
   ]
  },
  {
   "cell_type": "markdown",
   "id": "1bb256c9",
   "metadata": {},
   "source": [
    "In the code cell above, copy/paste the **dict** we created yesterday with the GE results. Don't forget to also copy/paste the line of code that transforms the **dict** into a **data frame**."
   ]
  },
  {
   "cell_type": "code",
   "execution_count": 4,
   "id": "3a5a1dd3",
   "metadata": {},
   "outputs": [
    {
     "name": "stdout",
     "output_type": "stream",
     "text": [
      "   year        party  seats\n",
      "0  1992  Fianna Fail     68\n",
      "1  1997  Fianna Fail     77\n",
      "2  2002  Fianna Fail     81\n",
      "3  2007  Fianna Fail     78\n",
      "4  2011    Fine Gael     76\n",
      "5  2016    Fine Gael     50\n",
      "6  2020  Fianna Fail     38\n"
     ]
    },
    {
     "data": {
      "text/html": [
       "<div>\n",
       "<style scoped>\n",
       "    .dataframe tbody tr th:only-of-type {\n",
       "        vertical-align: middle;\n",
       "    }\n",
       "\n",
       "    .dataframe tbody tr th {\n",
       "        vertical-align: top;\n",
       "    }\n",
       "\n",
       "    .dataframe thead th {\n",
       "        text-align: right;\n",
       "    }\n",
       "</style>\n",
       "<table border=\"1\" class=\"dataframe\">\n",
       "  <thead>\n",
       "    <tr style=\"text-align: right;\">\n",
       "      <th></th>\n",
       "      <th>year</th>\n",
       "      <th>party</th>\n",
       "      <th>seats</th>\n",
       "    </tr>\n",
       "  </thead>\n",
       "  <tbody>\n",
       "    <tr>\n",
       "      <th>0</th>\n",
       "      <td>1992</td>\n",
       "      <td>Fianna Fail</td>\n",
       "      <td>68</td>\n",
       "    </tr>\n",
       "    <tr>\n",
       "      <th>1</th>\n",
       "      <td>1997</td>\n",
       "      <td>Fianna Fail</td>\n",
       "      <td>77</td>\n",
       "    </tr>\n",
       "    <tr>\n",
       "      <th>2</th>\n",
       "      <td>2002</td>\n",
       "      <td>Fianna Fail</td>\n",
       "      <td>81</td>\n",
       "    </tr>\n",
       "    <tr>\n",
       "      <th>3</th>\n",
       "      <td>2007</td>\n",
       "      <td>Fianna Fail</td>\n",
       "      <td>78</td>\n",
       "    </tr>\n",
       "    <tr>\n",
       "      <th>4</th>\n",
       "      <td>2011</td>\n",
       "      <td>Fine Gael</td>\n",
       "      <td>76</td>\n",
       "    </tr>\n",
       "    <tr>\n",
       "      <th>5</th>\n",
       "      <td>2016</td>\n",
       "      <td>Fine Gael</td>\n",
       "      <td>50</td>\n",
       "    </tr>\n",
       "    <tr>\n",
       "      <th>6</th>\n",
       "      <td>2020</td>\n",
       "      <td>Fianna Fail</td>\n",
       "      <td>38</td>\n",
       "    </tr>\n",
       "  </tbody>\n",
       "</table>\n",
       "</div>"
      ],
      "text/plain": [
       "   year        party  seats\n",
       "0  1992  Fianna Fail     68\n",
       "1  1997  Fianna Fail     77\n",
       "2  2002  Fianna Fail     81\n",
       "3  2007  Fianna Fail     78\n",
       "4  2011    Fine Gael     76\n",
       "5  2016    Fine Gael     50\n",
       "6  2020  Fianna Fail     38"
      ]
     },
     "execution_count": 4,
     "metadata": {},
     "output_type": "execute_result"
    }
   ],
   "source": [
    "print(data_frame)\n",
    "data_frame"
   ]
  },
  {
   "cell_type": "markdown",
   "id": "7cd45fe3",
   "metadata": {},
   "source": [
    "Note the difference in output: calling the `print()` function on a data frame object in Jupyter causes the data to be rendered in a basic, terminal-esque output. Calling the object name by itself however gives a nicer output. Why?"
   ]
  },
  {
   "cell_type": "code",
   "execution_count": 5,
   "id": "1f1f5c54",
   "metadata": {},
   "outputs": [
    {
     "data": {
      "text/html": [
       "<style  type=\"text/css\" >\n",
       "</style><table id=\"T_a4551_\" ><thead>    <tr>        <th class=\"blank level0\" ></th>        <th class=\"col_heading level0 col0\" >year</th>        <th class=\"col_heading level0 col1\" >party</th>        <th class=\"col_heading level0 col2\" >seats</th>    </tr></thead><tbody>\n",
       "                <tr>\n",
       "                        <th id=\"T_a4551_level0_row0\" class=\"row_heading level0 row0\" >0</th>\n",
       "                        <td id=\"T_a4551_row0_col0\" class=\"data row0 col0\" >1992</td>\n",
       "                        <td id=\"T_a4551_row0_col1\" class=\"data row0 col1\" >Fianna Fail</td>\n",
       "                        <td id=\"T_a4551_row0_col2\" class=\"data row0 col2\" >68</td>\n",
       "            </tr>\n",
       "            <tr>\n",
       "                        <th id=\"T_a4551_level0_row1\" class=\"row_heading level0 row1\" >1</th>\n",
       "                        <td id=\"T_a4551_row1_col0\" class=\"data row1 col0\" >1997</td>\n",
       "                        <td id=\"T_a4551_row1_col1\" class=\"data row1 col1\" >Fianna Fail</td>\n",
       "                        <td id=\"T_a4551_row1_col2\" class=\"data row1 col2\" >77</td>\n",
       "            </tr>\n",
       "            <tr>\n",
       "                        <th id=\"T_a4551_level0_row2\" class=\"row_heading level0 row2\" >2</th>\n",
       "                        <td id=\"T_a4551_row2_col0\" class=\"data row2 col0\" >2002</td>\n",
       "                        <td id=\"T_a4551_row2_col1\" class=\"data row2 col1\" >Fianna Fail</td>\n",
       "                        <td id=\"T_a4551_row2_col2\" class=\"data row2 col2\" >81</td>\n",
       "            </tr>\n",
       "            <tr>\n",
       "                        <th id=\"T_a4551_level0_row3\" class=\"row_heading level0 row3\" >3</th>\n",
       "                        <td id=\"T_a4551_row3_col0\" class=\"data row3 col0\" >2007</td>\n",
       "                        <td id=\"T_a4551_row3_col1\" class=\"data row3 col1\" >Fianna Fail</td>\n",
       "                        <td id=\"T_a4551_row3_col2\" class=\"data row3 col2\" >78</td>\n",
       "            </tr>\n",
       "            <tr>\n",
       "                        <th id=\"T_a4551_level0_row4\" class=\"row_heading level0 row4\" >4</th>\n",
       "                        <td id=\"T_a4551_row4_col0\" class=\"data row4 col0\" >2011</td>\n",
       "                        <td id=\"T_a4551_row4_col1\" class=\"data row4 col1\" >Fine Gael</td>\n",
       "                        <td id=\"T_a4551_row4_col2\" class=\"data row4 col2\" >76</td>\n",
       "            </tr>\n",
       "            <tr>\n",
       "                        <th id=\"T_a4551_level0_row5\" class=\"row_heading level0 row5\" >5</th>\n",
       "                        <td id=\"T_a4551_row5_col0\" class=\"data row5 col0\" >2016</td>\n",
       "                        <td id=\"T_a4551_row5_col1\" class=\"data row5 col1\" >Fine Gael</td>\n",
       "                        <td id=\"T_a4551_row5_col2\" class=\"data row5 col2\" >50</td>\n",
       "            </tr>\n",
       "            <tr>\n",
       "                        <th id=\"T_a4551_level0_row6\" class=\"row_heading level0 row6\" >6</th>\n",
       "                        <td id=\"T_a4551_row6_col0\" class=\"data row6 col0\" >2020</td>\n",
       "                        <td id=\"T_a4551_row6_col1\" class=\"data row6 col1\" >Fianna Fail</td>\n",
       "                        <td id=\"T_a4551_row6_col2\" class=\"data row6 col2\" >38</td>\n",
       "            </tr>\n",
       "    </tbody></table>"
      ],
      "text/plain": [
       "<pandas.io.formats.style.Styler at 0x26a63074910>"
      ]
     },
     "execution_count": 5,
     "metadata": {},
     "output_type": "execute_result"
    }
   ],
   "source": [
    "data_frame.style"
   ]
  },
  {
   "cell_type": "markdown",
   "id": "2ac02dcc",
   "metadata": {},
   "source": [
    "The above cell provides the answer: data frame objects come with a **style attribute**, which automatically tells Jupyter how to render the object in a HTML setting. It is possible to change the default settings for this style, but it is a little complicated for today's class, so we'll stick with the default for now."
   ]
  },
  {
   "cell_type": "code",
   "execution_count": null,
   "id": "7e66d79d",
   "metadata": {},
   "outputs": [],
   "source": []
  },
  {
   "cell_type": "markdown",
   "id": "a7b94ffc",
   "metadata": {},
   "source": [
    "Our last job is to input the code for the line plot(s) we produced on Wednesday. Copy/paste the code into the cell above and run it. Once you're done, press the >> button to the right of \"run\" and see what happens."
   ]
  },
  {
   "cell_type": "markdown",
   "id": "783bf5a3",
   "metadata": {},
   "source": [
    "Once you've run all the code, we can output the Notebook as a HTML document. Go to the \"File\" menu and select \"Download as...\", then \".HTML\". See what happens."
   ]
  }
 ],
 "metadata": {
  "kernelspec": {
   "display_name": "Python 3",
   "language": "python",
   "name": "python3"
  },
  "language_info": {
   "codemirror_mode": {
    "name": "ipython",
    "version": 3
   },
   "file_extension": ".py",
   "mimetype": "text/x-python",
   "name": "python",
   "nbconvert_exporter": "python",
   "pygments_lexer": "ipython3",
   "version": "3.8.8"
  }
 },
 "nbformat": 4,
 "nbformat_minor": 5
}
